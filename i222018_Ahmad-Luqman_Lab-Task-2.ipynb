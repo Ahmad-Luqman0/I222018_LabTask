{
 "cells": [
  {
   "cell_type": "markdown",
   "id": "5f5558a1-16d7-4279-a731-608c01a8c13d",
   "metadata": {},
   "source": [
    "TASK 1"
   ]
  },
  {
   "cell_type": "code",
   "execution_count": 5,
   "id": "8862c42f-4abe-4de9-9a54-3d6540faff03",
   "metadata": {},
   "outputs": [],
   "source": [
    "import pandas as pd"
   ]
  },
  {
   "cell_type": "code",
   "execution_count": 11,
   "id": "84346019-069c-4140-880b-7701109303ae",
   "metadata": {},
   "outputs": [
    {
     "data": {
      "text/html": [
       "<div>\n",
       "<style scoped>\n",
       "    .dataframe tbody tr th:only-of-type {\n",
       "        vertical-align: middle;\n",
       "    }\n",
       "\n",
       "    .dataframe tbody tr th {\n",
       "        vertical-align: top;\n",
       "    }\n",
       "\n",
       "    .dataframe thead th {\n",
       "        text-align: right;\n",
       "    }\n",
       "</style>\n",
       "<table border=\"1\" class=\"dataframe\">\n",
       "  <thead>\n",
       "    <tr style=\"text-align: right;\">\n",
       "      <th></th>\n",
       "      <th>Rank</th>\n",
       "      <th>Name</th>\n",
       "      <th>Platform</th>\n",
       "      <th>Year</th>\n",
       "      <th>Genre</th>\n",
       "      <th>Publisher</th>\n",
       "      <th>NA_Sales</th>\n",
       "      <th>EU_Sales</th>\n",
       "      <th>JP_Sales</th>\n",
       "      <th>Other_Sales</th>\n",
       "      <th>Global_Sales</th>\n",
       "    </tr>\n",
       "  </thead>\n",
       "  <tbody>\n",
       "    <tr>\n",
       "      <th>0</th>\n",
       "      <td>1</td>\n",
       "      <td>Wii Sports</td>\n",
       "      <td>Wii</td>\n",
       "      <td>2006.0</td>\n",
       "      <td>Sports</td>\n",
       "      <td>Nintendo</td>\n",
       "      <td>41.49</td>\n",
       "      <td>29.02</td>\n",
       "      <td>3.77</td>\n",
       "      <td>8.46</td>\n",
       "      <td>82.74</td>\n",
       "    </tr>\n",
       "    <tr>\n",
       "      <th>1</th>\n",
       "      <td>2</td>\n",
       "      <td>Super Mario Bros.</td>\n",
       "      <td>NES</td>\n",
       "      <td>1985.0</td>\n",
       "      <td>Platform</td>\n",
       "      <td>Nintendo</td>\n",
       "      <td>29.08</td>\n",
       "      <td>3.58</td>\n",
       "      <td>6.81</td>\n",
       "      <td>0.77</td>\n",
       "      <td>40.24</td>\n",
       "    </tr>\n",
       "    <tr>\n",
       "      <th>2</th>\n",
       "      <td>3</td>\n",
       "      <td>Mario Kart Wii</td>\n",
       "      <td>Wii</td>\n",
       "      <td>2008.0</td>\n",
       "      <td>Racing</td>\n",
       "      <td>Nintendo</td>\n",
       "      <td>15.85</td>\n",
       "      <td>12.88</td>\n",
       "      <td>3.79</td>\n",
       "      <td>3.31</td>\n",
       "      <td>35.82</td>\n",
       "    </tr>\n",
       "    <tr>\n",
       "      <th>3</th>\n",
       "      <td>4</td>\n",
       "      <td>Wii Sports Resort</td>\n",
       "      <td>Wii</td>\n",
       "      <td>2009.0</td>\n",
       "      <td>Sports</td>\n",
       "      <td>Nintendo</td>\n",
       "      <td>15.75</td>\n",
       "      <td>11.01</td>\n",
       "      <td>3.28</td>\n",
       "      <td>2.96</td>\n",
       "      <td>33.00</td>\n",
       "    </tr>\n",
       "    <tr>\n",
       "      <th>4</th>\n",
       "      <td>5</td>\n",
       "      <td>Pokemon Red/Pokemon Blue</td>\n",
       "      <td>GB</td>\n",
       "      <td>1996.0</td>\n",
       "      <td>Role-Playing</td>\n",
       "      <td>Nintendo</td>\n",
       "      <td>11.27</td>\n",
       "      <td>8.89</td>\n",
       "      <td>10.22</td>\n",
       "      <td>1.00</td>\n",
       "      <td>31.37</td>\n",
       "    </tr>\n",
       "    <tr>\n",
       "      <th>...</th>\n",
       "      <td>...</td>\n",
       "      <td>...</td>\n",
       "      <td>...</td>\n",
       "      <td>...</td>\n",
       "      <td>...</td>\n",
       "      <td>...</td>\n",
       "      <td>...</td>\n",
       "      <td>...</td>\n",
       "      <td>...</td>\n",
       "      <td>...</td>\n",
       "      <td>...</td>\n",
       "    </tr>\n",
       "    <tr>\n",
       "      <th>16593</th>\n",
       "      <td>16596</td>\n",
       "      <td>Woody Woodpecker in Crazy Castle 5</td>\n",
       "      <td>GBA</td>\n",
       "      <td>2002.0</td>\n",
       "      <td>Platform</td>\n",
       "      <td>Kemco</td>\n",
       "      <td>0.01</td>\n",
       "      <td>0.00</td>\n",
       "      <td>0.00</td>\n",
       "      <td>0.00</td>\n",
       "      <td>0.01</td>\n",
       "    </tr>\n",
       "    <tr>\n",
       "      <th>16594</th>\n",
       "      <td>16597</td>\n",
       "      <td>Men in Black II: Alien Escape</td>\n",
       "      <td>GC</td>\n",
       "      <td>2003.0</td>\n",
       "      <td>Shooter</td>\n",
       "      <td>Infogrames</td>\n",
       "      <td>0.01</td>\n",
       "      <td>0.00</td>\n",
       "      <td>0.00</td>\n",
       "      <td>0.00</td>\n",
       "      <td>0.01</td>\n",
       "    </tr>\n",
       "    <tr>\n",
       "      <th>16595</th>\n",
       "      <td>16598</td>\n",
       "      <td>SCORE International Baja 1000: The Official Game</td>\n",
       "      <td>PS2</td>\n",
       "      <td>2008.0</td>\n",
       "      <td>Racing</td>\n",
       "      <td>Activision</td>\n",
       "      <td>0.00</td>\n",
       "      <td>0.00</td>\n",
       "      <td>0.00</td>\n",
       "      <td>0.00</td>\n",
       "      <td>0.01</td>\n",
       "    </tr>\n",
       "    <tr>\n",
       "      <th>16596</th>\n",
       "      <td>16599</td>\n",
       "      <td>Know How 2</td>\n",
       "      <td>DS</td>\n",
       "      <td>2010.0</td>\n",
       "      <td>Puzzle</td>\n",
       "      <td>7G//AMES</td>\n",
       "      <td>0.00</td>\n",
       "      <td>0.01</td>\n",
       "      <td>0.00</td>\n",
       "      <td>0.00</td>\n",
       "      <td>0.01</td>\n",
       "    </tr>\n",
       "    <tr>\n",
       "      <th>16597</th>\n",
       "      <td>16600</td>\n",
       "      <td>Spirits &amp; Spells</td>\n",
       "      <td>GBA</td>\n",
       "      <td>2003.0</td>\n",
       "      <td>Platform</td>\n",
       "      <td>Wanadoo</td>\n",
       "      <td>0.01</td>\n",
       "      <td>0.00</td>\n",
       "      <td>0.00</td>\n",
       "      <td>0.00</td>\n",
       "      <td>0.01</td>\n",
       "    </tr>\n",
       "  </tbody>\n",
       "</table>\n",
       "<p>16598 rows × 11 columns</p>\n",
       "</div>"
      ],
      "text/plain": [
       "        Rank                                              Name Platform  \\\n",
       "0          1                                        Wii Sports      Wii   \n",
       "1          2                                 Super Mario Bros.      NES   \n",
       "2          3                                    Mario Kart Wii      Wii   \n",
       "3          4                                 Wii Sports Resort      Wii   \n",
       "4          5                          Pokemon Red/Pokemon Blue       GB   \n",
       "...      ...                                               ...      ...   \n",
       "16593  16596                Woody Woodpecker in Crazy Castle 5      GBA   \n",
       "16594  16597                     Men in Black II: Alien Escape       GC   \n",
       "16595  16598  SCORE International Baja 1000: The Official Game      PS2   \n",
       "16596  16599                                        Know How 2       DS   \n",
       "16597  16600                                  Spirits & Spells      GBA   \n",
       "\n",
       "         Year         Genre   Publisher  NA_Sales  EU_Sales  JP_Sales  \\\n",
       "0      2006.0        Sports    Nintendo     41.49     29.02      3.77   \n",
       "1      1985.0      Platform    Nintendo     29.08      3.58      6.81   \n",
       "2      2008.0        Racing    Nintendo     15.85     12.88      3.79   \n",
       "3      2009.0        Sports    Nintendo     15.75     11.01      3.28   \n",
       "4      1996.0  Role-Playing    Nintendo     11.27      8.89     10.22   \n",
       "...       ...           ...         ...       ...       ...       ...   \n",
       "16593  2002.0      Platform       Kemco      0.01      0.00      0.00   \n",
       "16594  2003.0       Shooter  Infogrames      0.01      0.00      0.00   \n",
       "16595  2008.0        Racing  Activision      0.00      0.00      0.00   \n",
       "16596  2010.0        Puzzle    7G//AMES      0.00      0.01      0.00   \n",
       "16597  2003.0      Platform     Wanadoo      0.01      0.00      0.00   \n",
       "\n",
       "       Other_Sales  Global_Sales  \n",
       "0             8.46         82.74  \n",
       "1             0.77         40.24  \n",
       "2             3.31         35.82  \n",
       "3             2.96         33.00  \n",
       "4             1.00         31.37  \n",
       "...            ...           ...  \n",
       "16593         0.00          0.01  \n",
       "16594         0.00          0.01  \n",
       "16595         0.00          0.01  \n",
       "16596         0.00          0.01  \n",
       "16597         0.00          0.01  \n",
       "\n",
       "[16598 rows x 11 columns]"
      ]
     },
     "execution_count": 11,
     "metadata": {},
     "output_type": "execute_result"
    }
   ],
   "source": [
    "df=pd.read_csv(\"vgsalesGlobale.csv\")\n",
    "\n",
    "df"
   ]
  },
  {
   "cell_type": "code",
   "execution_count": 15,
   "id": "60a7645e-0d28-48f1-a5ff-6d63942f56ee",
   "metadata": {},
   "outputs": [
    {
     "name": "stdout",
     "output_type": "stream",
     "text": [
      "Total Sales :  8920.44\n"
     ]
    }
   ],
   "source": [
    "totalsales = df[\"Global_Sales\"].sum()\n",
    "print(\"Total Sales : \", totalsales)"
   ]
  },
  {
   "cell_type": "code",
   "execution_count": 23,
   "id": "4b12ae82-d157-40ce-9dc0-7a7e81fd2ec6",
   "metadata": {},
   "outputs": [
    {
     "data": {
      "text/html": [
       "<div>\n",
       "<style scoped>\n",
       "    .dataframe tbody tr th:only-of-type {\n",
       "        vertical-align: middle;\n",
       "    }\n",
       "\n",
       "    .dataframe tbody tr th {\n",
       "        vertical-align: top;\n",
       "    }\n",
       "\n",
       "    .dataframe thead th {\n",
       "        text-align: right;\n",
       "    }\n",
       "</style>\n",
       "<table border=\"1\" class=\"dataframe\">\n",
       "  <thead>\n",
       "    <tr style=\"text-align: right;\">\n",
       "      <th></th>\n",
       "      <th>Rank</th>\n",
       "      <th>Name</th>\n",
       "      <th>Platform</th>\n",
       "      <th>Year</th>\n",
       "      <th>Genre</th>\n",
       "      <th>Publisher</th>\n",
       "      <th>NA_Sales</th>\n",
       "      <th>EU_Sales</th>\n",
       "      <th>JP_Sales</th>\n",
       "      <th>Other_Sales</th>\n",
       "      <th>Global_Sales</th>\n",
       "    </tr>\n",
       "  </thead>\n",
       "  <tbody>\n",
       "    <tr>\n",
       "      <th>0</th>\n",
       "      <td>1</td>\n",
       "      <td>Wii Sports</td>\n",
       "      <td>Wii</td>\n",
       "      <td>2006.0</td>\n",
       "      <td>Sports</td>\n",
       "      <td>Nintendo</td>\n",
       "      <td>41.49</td>\n",
       "      <td>29.02</td>\n",
       "      <td>3.77</td>\n",
       "      <td>8.46</td>\n",
       "      <td>82.74</td>\n",
       "    </tr>\n",
       "  </tbody>\n",
       "</table>\n",
       "</div>"
      ],
      "text/plain": [
       "   Rank        Name Platform    Year   Genre Publisher  NA_Sales  EU_Sales  \\\n",
       "0     1  Wii Sports      Wii  2006.0  Sports  Nintendo     41.49     29.02   \n",
       "\n",
       "   JP_Sales  Other_Sales  Global_Sales  \n",
       "0      3.77         8.46         82.74  "
      ]
     },
     "execution_count": 23,
     "metadata": {},
     "output_type": "execute_result"
    }
   ],
   "source": [
    "highestgame = df[df[\"Global_Sales\"] == df[\"Global_Sales\"].max()]\n",
    "highestgame\n"
   ]
  },
  {
   "cell_type": "code",
   "execution_count": 41,
   "id": "f25701d3-68a3-4c3a-acb8-6bd673e9ae7c",
   "metadata": {},
   "outputs": [
    {
     "name": "stdout",
     "output_type": "stream",
     "text": [
      "Average Sale in NA :  0.26466742981082064\n",
      "Average Sale in EU :  0.14665200626581515\n",
      "Average Sale in JP :  0.077781660441017\n",
      "Average Sale in Others :  0.0480630196409206\n"
     ]
    }
   ],
   "source": [
    "avgsaleNA=df[\"NA_Sales\"].mean()\n",
    "avgsaleEU=df[\"EU_Sales\"].mean()\n",
    "avgsaleJP=df[\"JP_Sales\"].mean()\n",
    "avgsaleother=df[\"Other_Sales\"].mean()\n",
    "\n",
    "\n",
    "print(\"Average Sale in NA : \", avgsaleNA)\n",
    "print(\"Average Sale in EU : \", avgsaleEU)\n",
    "print(\"Average Sale in JP : \", avgsaleJP)\n",
    "print(\"Average Sale in Others : \", avgsaleother)"
   ]
  },
  {
   "cell_type": "code",
   "execution_count": 51,
   "id": "13cc0816-fce4-40af-a82b-c8e2c8cea830",
   "metadata": {},
   "outputs": [
    {
     "name": "stdout",
     "output_type": "stream",
     "text": [
      "Top 5 Generes are :\n",
      " Genre\n",
      "Action          1751.18\n",
      "Sports          1330.93\n",
      "Shooter         1037.37\n",
      "Role-Playing     927.37\n",
      "Platform         831.37\n",
      "Name: Global_Sales, dtype: float64\n"
     ]
    }
   ],
   "source": [
    "Top5 = df.groupby(\"Genre\")[\"Global_Sales\"].sum().nlargest(5)\n",
    "print(\"Top 5 Generes are :\\n\", Top5)"
   ]
  },
  {
   "cell_type": "code",
   "execution_count": 57,
   "id": "555d1fd7-0f08-4f38-9580-2c19af03bbda",
   "metadata": {},
   "outputs": [
    {
     "name": "stdout",
     "output_type": "stream",
     "text": [
      "Total Sales By Genre :               NA_Sales  EU_Sales  JP_Sales  Other_Sales\n",
      "Genre                                                  \n",
      "Action          877.83    525.00    159.95       187.38\n",
      "Adventure       105.80     64.13     52.07        16.81\n",
      "Fighting        223.59    101.32     87.35        36.68\n",
      "Misc            410.24    215.98    107.76        75.32\n",
      "Platform        447.05    201.63    130.77        51.59\n",
      "Puzzle          123.78     50.78     57.31        12.55\n",
      "Racing          359.42    238.39     56.69        77.27\n",
      "Role-Playing    327.28    188.06    352.31        59.61\n",
      "Shooter         582.60    313.27     38.28       102.69\n",
      "Simulation      183.31    113.38     63.70        31.52\n",
      "Sports          683.35    376.85    135.37       134.97\n",
      "Strategy         68.70     45.34     49.46        11.36\n"
     ]
    }
   ],
   "source": [
    "TotalSalesByGenre = df.groupby(\"Genre\")[[\"NA_Sales\", \"EU_Sales\", \"JP_Sales\", \"Other_Sales\"]].sum()\n",
    "print(\"Total Sales By Genre :\", TotalSalesByGenre)"
   ]
  },
  {
   "cell_type": "code",
   "execution_count": 61,
   "id": "f23ab99a-d669-4570-88f4-250563b2c766",
   "metadata": {},
   "outputs": [
    {
     "data": {
      "text/html": [
       "<div>\n",
       "<style scoped>\n",
       "    .dataframe tbody tr th:only-of-type {\n",
       "        vertical-align: middle;\n",
       "    }\n",
       "\n",
       "    .dataframe tbody tr th {\n",
       "        vertical-align: top;\n",
       "    }\n",
       "\n",
       "    .dataframe thead th {\n",
       "        text-align: right;\n",
       "    }\n",
       "</style>\n",
       "<table border=\"1\" class=\"dataframe\">\n",
       "  <thead>\n",
       "    <tr style=\"text-align: right;\">\n",
       "      <th></th>\n",
       "      <th>Rank</th>\n",
       "      <th>Name</th>\n",
       "      <th>Platform</th>\n",
       "      <th>Year</th>\n",
       "      <th>Genre</th>\n",
       "      <th>Publisher</th>\n",
       "      <th>NA_Sales</th>\n",
       "      <th>EU_Sales</th>\n",
       "      <th>JP_Sales</th>\n",
       "      <th>Other_Sales</th>\n",
       "      <th>Global_Sales</th>\n",
       "    </tr>\n",
       "  </thead>\n",
       "  <tbody>\n",
       "    <tr>\n",
       "      <th>16588</th>\n",
       "      <td>16591</td>\n",
       "      <td>Mega Brain Boost</td>\n",
       "      <td>DS</td>\n",
       "      <td>2008.0</td>\n",
       "      <td>Puzzle</td>\n",
       "      <td>Majesco Entertainment</td>\n",
       "      <td>0.01</td>\n",
       "      <td>0.00</td>\n",
       "      <td>0.00</td>\n",
       "      <td>0.0</td>\n",
       "      <td>0.01</td>\n",
       "    </tr>\n",
       "    <tr>\n",
       "      <th>16589</th>\n",
       "      <td>16592</td>\n",
       "      <td>Chou Ezaru wa Akai Hana: Koi wa Tsuki ni Shiru...</td>\n",
       "      <td>PSV</td>\n",
       "      <td>2016.0</td>\n",
       "      <td>Action</td>\n",
       "      <td>dramatic create</td>\n",
       "      <td>0.00</td>\n",
       "      <td>0.00</td>\n",
       "      <td>0.01</td>\n",
       "      <td>0.0</td>\n",
       "      <td>0.01</td>\n",
       "    </tr>\n",
       "    <tr>\n",
       "      <th>16590</th>\n",
       "      <td>16593</td>\n",
       "      <td>Eiyuu Densetsu: Sora no Kiseki Material Collec...</td>\n",
       "      <td>PSP</td>\n",
       "      <td>2007.0</td>\n",
       "      <td>Role-Playing</td>\n",
       "      <td>Falcom Corporation</td>\n",
       "      <td>0.00</td>\n",
       "      <td>0.00</td>\n",
       "      <td>0.01</td>\n",
       "      <td>0.0</td>\n",
       "      <td>0.01</td>\n",
       "    </tr>\n",
       "    <tr>\n",
       "      <th>16591</th>\n",
       "      <td>16594</td>\n",
       "      <td>Myst IV: Revelation</td>\n",
       "      <td>PC</td>\n",
       "      <td>2004.0</td>\n",
       "      <td>Adventure</td>\n",
       "      <td>Ubisoft</td>\n",
       "      <td>0.01</td>\n",
       "      <td>0.00</td>\n",
       "      <td>0.00</td>\n",
       "      <td>0.0</td>\n",
       "      <td>0.01</td>\n",
       "    </tr>\n",
       "    <tr>\n",
       "      <th>16592</th>\n",
       "      <td>16595</td>\n",
       "      <td>Plushees</td>\n",
       "      <td>DS</td>\n",
       "      <td>2008.0</td>\n",
       "      <td>Simulation</td>\n",
       "      <td>Destineer</td>\n",
       "      <td>0.01</td>\n",
       "      <td>0.00</td>\n",
       "      <td>0.00</td>\n",
       "      <td>0.0</td>\n",
       "      <td>0.01</td>\n",
       "    </tr>\n",
       "    <tr>\n",
       "      <th>16593</th>\n",
       "      <td>16596</td>\n",
       "      <td>Woody Woodpecker in Crazy Castle 5</td>\n",
       "      <td>GBA</td>\n",
       "      <td>2002.0</td>\n",
       "      <td>Platform</td>\n",
       "      <td>Kemco</td>\n",
       "      <td>0.01</td>\n",
       "      <td>0.00</td>\n",
       "      <td>0.00</td>\n",
       "      <td>0.0</td>\n",
       "      <td>0.01</td>\n",
       "    </tr>\n",
       "    <tr>\n",
       "      <th>16594</th>\n",
       "      <td>16597</td>\n",
       "      <td>Men in Black II: Alien Escape</td>\n",
       "      <td>GC</td>\n",
       "      <td>2003.0</td>\n",
       "      <td>Shooter</td>\n",
       "      <td>Infogrames</td>\n",
       "      <td>0.01</td>\n",
       "      <td>0.00</td>\n",
       "      <td>0.00</td>\n",
       "      <td>0.0</td>\n",
       "      <td>0.01</td>\n",
       "    </tr>\n",
       "    <tr>\n",
       "      <th>16595</th>\n",
       "      <td>16598</td>\n",
       "      <td>SCORE International Baja 1000: The Official Game</td>\n",
       "      <td>PS2</td>\n",
       "      <td>2008.0</td>\n",
       "      <td>Racing</td>\n",
       "      <td>Activision</td>\n",
       "      <td>0.00</td>\n",
       "      <td>0.00</td>\n",
       "      <td>0.00</td>\n",
       "      <td>0.0</td>\n",
       "      <td>0.01</td>\n",
       "    </tr>\n",
       "    <tr>\n",
       "      <th>16596</th>\n",
       "      <td>16599</td>\n",
       "      <td>Know How 2</td>\n",
       "      <td>DS</td>\n",
       "      <td>2010.0</td>\n",
       "      <td>Puzzle</td>\n",
       "      <td>7G//AMES</td>\n",
       "      <td>0.00</td>\n",
       "      <td>0.01</td>\n",
       "      <td>0.00</td>\n",
       "      <td>0.0</td>\n",
       "      <td>0.01</td>\n",
       "    </tr>\n",
       "    <tr>\n",
       "      <th>16597</th>\n",
       "      <td>16600</td>\n",
       "      <td>Spirits &amp; Spells</td>\n",
       "      <td>GBA</td>\n",
       "      <td>2003.0</td>\n",
       "      <td>Platform</td>\n",
       "      <td>Wanadoo</td>\n",
       "      <td>0.01</td>\n",
       "      <td>0.00</td>\n",
       "      <td>0.00</td>\n",
       "      <td>0.0</td>\n",
       "      <td>0.01</td>\n",
       "    </tr>\n",
       "  </tbody>\n",
       "</table>\n",
       "</div>"
      ],
      "text/plain": [
       "        Rank                                               Name Platform  \\\n",
       "16588  16591                                   Mega Brain Boost       DS   \n",
       "16589  16592  Chou Ezaru wa Akai Hana: Koi wa Tsuki ni Shiru...      PSV   \n",
       "16590  16593  Eiyuu Densetsu: Sora no Kiseki Material Collec...      PSP   \n",
       "16591  16594                                Myst IV: Revelation       PC   \n",
       "16592  16595                                           Plushees       DS   \n",
       "16593  16596                 Woody Woodpecker in Crazy Castle 5      GBA   \n",
       "16594  16597                      Men in Black II: Alien Escape       GC   \n",
       "16595  16598   SCORE International Baja 1000: The Official Game      PS2   \n",
       "16596  16599                                         Know How 2       DS   \n",
       "16597  16600                                   Spirits & Spells      GBA   \n",
       "\n",
       "         Year         Genre              Publisher  NA_Sales  EU_Sales  \\\n",
       "16588  2008.0        Puzzle  Majesco Entertainment      0.01      0.00   \n",
       "16589  2016.0        Action        dramatic create      0.00      0.00   \n",
       "16590  2007.0  Role-Playing     Falcom Corporation      0.00      0.00   \n",
       "16591  2004.0     Adventure                Ubisoft      0.01      0.00   \n",
       "16592  2008.0    Simulation              Destineer      0.01      0.00   \n",
       "16593  2002.0      Platform                  Kemco      0.01      0.00   \n",
       "16594  2003.0       Shooter             Infogrames      0.01      0.00   \n",
       "16595  2008.0        Racing             Activision      0.00      0.00   \n",
       "16596  2010.0        Puzzle               7G//AMES      0.00      0.01   \n",
       "16597  2003.0      Platform                Wanadoo      0.01      0.00   \n",
       "\n",
       "       JP_Sales  Other_Sales  Global_Sales  \n",
       "16588      0.00          0.0          0.01  \n",
       "16589      0.01          0.0          0.01  \n",
       "16590      0.01          0.0          0.01  \n",
       "16591      0.00          0.0          0.01  \n",
       "16592      0.00          0.0          0.01  \n",
       "16593      0.00          0.0          0.01  \n",
       "16594      0.00          0.0          0.01  \n",
       "16595      0.00          0.0          0.01  \n",
       "16596      0.00          0.0          0.01  \n",
       "16597      0.00          0.0          0.01  "
      ]
     },
     "execution_count": 61,
     "metadata": {},
     "output_type": "execute_result"
    }
   ],
   "source": [
    "df.tail(10)"
   ]
  },
  {
   "cell_type": "code",
   "execution_count": 63,
   "id": "d58f4450-8b71-40ca-ac0d-5e3c05c47ee5",
   "metadata": {},
   "outputs": [
    {
     "name": "stdout",
     "output_type": "stream",
     "text": [
      "Top 3 Plateforms :  Platform\n",
      "PS2     1255.64\n",
      "X360     979.96\n",
      "PS3      957.84\n",
      "Name: Global_Sales, dtype: float64\n"
     ]
    }
   ],
   "source": [
    "TopPlateforms = df.groupby(\"Platform\")[\"Global_Sales\"].sum().nlargest(3)\n",
    "print(\"Top 3 Plateforms : \", TopPlateforms)"
   ]
  },
  {
   "cell_type": "code",
   "execution_count": 73,
   "id": "5cdbabc9-388c-4807-9ef0-6f70220ac0f2",
   "metadata": {},
   "outputs": [
    {
     "name": "stdout",
     "output_type": "stream",
     "text": [
      "Market Share :  Genre\n",
      "Action          19.631094\n",
      "Adventure        2.679688\n",
      "Fighting         5.032375\n",
      "Misc             9.079821\n",
      "Platform         9.319832\n",
      "Puzzle           2.745941\n",
      "Racing           8.206322\n",
      "Role-Playing    10.396012\n",
      "Shooter         11.629135\n",
      "Simulation       4.396644\n",
      "Sports          14.920004\n",
      "Strategy         1.963132\n",
      "Name: Global_Sales, dtype: float64\n"
     ]
    }
   ],
   "source": [
    "TotalSales = df[\"Global_Sales\"].sum()\n",
    "MarketShare = (df.groupby(\"Genre\")[\"Global_Sales\"].sum() / TotalSales) * 100\n",
    "\n",
    "print(\"Market Share : \", MarketShare)"
   ]
  },
  {
   "cell_type": "code",
   "execution_count": 75,
   "id": "410b23ad-433a-4705-9b9b-0d8a90f335a7",
   "metadata": {},
   "outputs": [
    {
     "name": "stdout",
     "output_type": "stream",
     "text": [
      "Correlation Between NA_Sales and Eu_Sales is :  0.7677267483702629\n"
     ]
    }
   ],
   "source": [
    "corr = df[\"NA_Sales\"].corr(df[\"EU_Sales\"])\n",
    "\n",
    "print(\"Correlation Between NA_Sales and Eu_Sales is : \", corr)"
   ]
  },
  {
   "cell_type": "markdown",
   "id": "458379f1-1b59-4719-a58a-e9a824f508c0",
   "metadata": {},
   "source": [
    "TASK 2"
   ]
  },
  {
   "cell_type": "code",
   "execution_count": 91,
   "id": "b0ddcdc1-33a8-4211-8e61-1da21e29656f",
   "metadata": {},
   "outputs": [],
   "source": [
    "dic={\n",
    "    \"hello\": \"hi\",\n",
    "    \"goodbye\": \"bye\",\n",
    "    \"how\": \"aa\",\n",
    "    \"are\": \"bb\",\n",
    "    \"you\": \"ac\",\n",
    "    \"what\": \"xy\",\n",
    "    \"doing\": \"yz\",\n",
    "    \"time\": \"xz\"\n",
    "}"
   ]
  },
  {
   "cell_type": "code",
   "execution_count": 95,
   "id": "829bd767-c243-4311-ab0f-3f00553e3093",
   "metadata": {},
   "outputs": [
    {
     "name": "stdin",
     "output_type": "stream",
     "text": [
      "Enter word in English to Translate :  are\n"
     ]
    },
    {
     "name": "stdout",
     "output_type": "stream",
     "text": [
      "are  in Spanish is :  bb\n"
     ]
    }
   ],
   "source": [
    "word = input(\"Enter word in English to Translate : \")\n",
    "\n",
    "if word in dic:\n",
    "    print(word, \" in Spanish is : \", dic[word])\n",
    "else:\n",
    "    print(\"The Given word is not present in dictionary\")"
   ]
  },
  {
   "cell_type": "code",
   "execution_count": 97,
   "id": "08a90510-b7a4-4632-ba7d-579f8ca92d57",
   "metadata": {},
   "outputs": [
    {
     "name": "stdin",
     "output_type": "stream",
     "text": [
      "Enter word in English to Translate to exit loop type exit :  are\n"
     ]
    },
    {
     "name": "stdout",
     "output_type": "stream",
     "text": [
      "are  In Spanish is :  bb\n"
     ]
    },
    {
     "name": "stdin",
     "output_type": "stream",
     "text": [
      "Enter word in English to Translate to exit loop type exit :  is\n"
     ]
    },
    {
     "name": "stdout",
     "output_type": "stream",
     "text": [
      "The Given word is not present in dictionary\n"
     ]
    },
    {
     "name": "stdin",
     "output_type": "stream",
     "text": [
      "Enter word in English to Translate to exit loop type exit :  how\n"
     ]
    },
    {
     "name": "stdout",
     "output_type": "stream",
     "text": [
      "how  In Spanish is :  aa\n"
     ]
    },
    {
     "name": "stdin",
     "output_type": "stream",
     "text": [
      "Enter word in English to Translate to exit loop type exit :  exit\n"
     ]
    },
    {
     "name": "stdout",
     "output_type": "stream",
     "text": [
      "Exitting from Loop....\n"
     ]
    }
   ],
   "source": [
    "while True:\n",
    "    word = input(\"Enter word in English to Translate to exit loop type exit : \").lower()\n",
    "\n",
    "    if word == \"exit\":\n",
    "        print(\"Exitting from Loop....\")\n",
    "        break  \n",
    "\n",
    "    if word in dic:\n",
    "        print(word, \" In Spanish is : \", dic[word])\n",
    "    else:\n",
    "        print(\"The Given word is not present in dictionary\")"
   ]
  },
  {
   "cell_type": "markdown",
   "id": "4220f8ee-3adf-4b57-904e-87bd8a947c2d",
   "metadata": {},
   "source": [
    "TASK 3"
   ]
  },
  {
   "cell_type": "code",
   "execution_count": 129,
   "id": "11bb5142-d9c1-490d-82ee-812d840113cd",
   "metadata": {},
   "outputs": [
    {
     "name": "stdout",
     "output_type": "stream",
     "text": [
      "Important Mails :  ['Hello a', 'HI b', 'is d', 'the i', 'Weather o', 'whats c']\n",
      "\n",
      "Promotions Mails :  ['How l']\n",
      "\n",
      "Spam Mails :  ['Up x']\n"
     ]
    }
   ],
   "source": [
    "impmails = []\n",
    "prommails = []\n",
    "spammails = []\n",
    "\n",
    "def classifyemails(emails):\n",
    "    imp_keys = [\"a\", \"b\", \"c\", \"d\", \"e\"]\n",
    "    prom_keys = [\"f\", \"g\", \"h\", \"i\", \"j\", \"k\"]\n",
    "    spam_keys = [\"l\", \"m\", \"n\", \"o\", \"p\", \"q\"]\n",
    "\n",
    "    \n",
    "\n",
    "    for x in emails:\n",
    "        email_lower = x.lower() \n",
    "        if any(word in email_lower for word in imp_keys):\n",
    "            impmails.append(x)\n",
    "        elif any(word in email_lower for word in prom_keys):\n",
    "            prommails.append(x)\n",
    "        elif any(word in email_lower for word in spam_keys):\n",
    "            spammails.append(x)\n",
    "\n",
    "    return impmails, prommails, spammails\n",
    "\n",
    "mails = [\"Hello a\", \"HI b\", \"How l\", \"is d\", \"the i\", \"Weather o\", \"whats c\", \"Up x\"]\n",
    "\n",
    "a, b, c = classifyemails(mails)\n",
    "\n",
    "print(\"Important Mails : \", a)\n",
    "print(\"\\nPromotions Mails : \", b)\n",
    "print(\"\\nSpam Mails : \", c)\n",
    "\n"
   ]
  },
  {
   "cell_type": "markdown",
   "id": "e853013f-adaf-44de-8768-f7983ff3ff9a",
   "metadata": {},
   "source": [
    "TASK 4"
   ]
  },
  {
   "cell_type": "code",
   "execution_count": 143,
   "id": "3bbdcc93-2880-4a95-97ea-80cd5ab16b6b",
   "metadata": {},
   "outputs": [
    {
     "name": "stdout",
     "output_type": "stream",
     "text": [
      "Welcome to the Store\n",
      "Available Products are :\n",
      "1. Bread\n",
      "2. Butter\n",
      "3. Eggs\n",
      "4. Milk\n",
      "5. Apples\n"
     ]
    },
    {
     "name": "stdin",
     "output_type": "stream",
     "text": [
      "Enter The Serial Number of Product You Want to Buy To Exit Press q  :  1\n",
      "Enter The Serial Number of Product You Want to Buy To Exit Press q  :  2\n",
      "Enter The Serial Number of Product You Want to Buy To Exit Press q  :  3\n",
      "Enter The Serial Number of Product You Want to Buy To Exit Press q  :  4\n",
      "Enter The Serial Number of Product You Want to Buy To Exit Press q  :  5\n",
      "Enter The Serial Number of Product You Want to Buy To Exit Press q  :  6\n"
     ]
    },
    {
     "name": "stdout",
     "output_type": "stream",
     "text": [
      "Input in not Correct. Enter Valid Number Or Press Q.....\n"
     ]
    },
    {
     "name": "stdin",
     "output_type": "stream",
     "text": [
      "Enter The Serial Number of Product You Want to Buy To Exit Press q  :  5\n",
      "Enter The Serial Number of Product You Want to Buy To Exit Press q  :  4\n",
      "Enter The Serial Number of Product You Want to Buy To Exit Press q  :  3\n",
      "Enter The Serial Number of Product You Want to Buy To Exit Press q  :  2\n",
      "Enter The Serial Number of Product You Want to Buy To Exit Press q  :  1\n",
      "Enter The Serial Number of Product You Want to Buy To Exit Press q  :  q\n"
     ]
    },
    {
     "name": "stdout",
     "output_type": "stream",
     "text": [
      "\n",
      "Your Shopping Cart is :\n",
      "Bread\n",
      "Butter\n",
      "Eggs\n",
      "Milk\n",
      "Apples\n",
      "Apples\n",
      "Milk\n",
      "Eggs\n",
      "Butter\n",
      "Bread\n",
      "\n",
      " Bye Bye\n"
     ]
    }
   ],
   "source": [
    "products = {\n",
    "    1: \"Bread\",\n",
    "    2: \"Butter\",\n",
    "    3: \"Eggs\",\n",
    "    4: \"Milk\",\n",
    "    5: \"Apples\"\n",
    "}\n",
    "\n",
    "cart = []\n",
    "\n",
    "print(\"Welcome to the Store\")\n",
    "print(\"Available Products are :\")\n",
    "\n",
    "for key, value in products.items():\n",
    "    print(f\"{key}. {value}\")\n",
    "while 1:\n",
    "    choice = input(\"Enter The Serial Number of Product You Want to Buy To Exit Press q  : \").lower()\n",
    "    \n",
    "    if choice == '1':\n",
    "        cart.append(products[1])\n",
    "    elif choice == '2':\n",
    "        cart.append(products[2])\n",
    "    elif choice == '3':\n",
    "        cart.append(products[3])\n",
    "    elif choice == '4':\n",
    "        cart.append(products[4])\n",
    "    elif choice == '5':\n",
    "        cart.append(products[5])\n",
    "    elif choice == 'q':\n",
    "        break\n",
    "    else:\n",
    "        print(\"Input in not Correct. Enter Valid Number Or Press Q.....\")\n",
    "\n",
    "print(\"\\nYour Shopping Cart is :\")\n",
    "\n",
    "if cart:\n",
    "    for item in cart:\n",
    "        print(item)\n",
    "else:\n",
    "    print(\"\\nYour cart is empty.\")\n",
    "\n",
    "# Goodbye message\n",
    "print(\"\\n Bye Bye\")\n"
   ]
  },
  {
   "cell_type": "markdown",
   "id": "d18a2f75-0cfc-4bff-bc04-dfb967b62d8b",
   "metadata": {},
   "source": [
    "TASK 5:"
   ]
  },
  {
   "cell_type": "code",
   "execution_count": 162,
   "id": "f19b7a3b-d86c-40ae-ac98-022e3c33398b",
   "metadata": {},
   "outputs": [
    {
     "name": "stdout",
     "output_type": "stream",
     "text": [
      "Addition :  [ 8 10 12 14 16 18]\n",
      "Multiplication :  [ 7 16 27 40 55 72]\n"
     ]
    }
   ],
   "source": [
    "import numpy as np\n",
    "\n",
    "arr1=np.array([1, 2, 3, 4, 5, 6])\n",
    "arr2=np.array([7, 8, 9, 10, 11, 12])\n",
    "\n",
    "sumarr=arr1+arr2\n",
    "print(\"Addition : \", sumarr)\n",
    "\n",
    "prodarr=arr1*arr2\n",
    "print(\"Multiplication : \", prodarr)\n"
   ]
  },
  {
   "cell_type": "markdown",
   "id": "55a5b5d3-aa78-4331-891b-ac854edfa988",
   "metadata": {},
   "source": [
    "TASK 6:"
   ]
  },
  {
   "cell_type": "code",
   "execution_count": 173,
   "id": "db97de93-f0e2-4838-b7a3-4d6c4227bc7d",
   "metadata": {},
   "outputs": [
    {
     "name": "stdout",
     "output_type": "stream",
     "text": [
      "Reshaped Array : \n",
      " [[ 1  2  3  4]\n",
      " [ 5  6  7  8]\n",
      " [ 9 10 11 12]]\n",
      "\n",
      "Vertical Concatination : \n",
      " [[ 1  2  3  4  5  6]\n",
      " [ 7  8  9 10 11 12]]\n",
      "\n",
      "Horizontal Concatination : \n",
      " [ 1  2  3  4  5  6  7  8  9 10 11 12]\n"
     ]
    }
   ],
   "source": [
    "arr = np.array([1, 2, 3, 4, 5, 6, 7, 8, 9, 10, 11, 12])\n",
    "\n",
    "arr1 = arr.reshape(3, 4)\n",
    "print(\"Reshaped Array : \\n\", arr1)\n",
    "\n",
    "arr2=np.array([1, 2, 3, 4, 5, 6])\n",
    "arr3=np.array([7, 8, 9, 10, 11, 12])\n",
    "\n",
    "vertical=np.vstack((arr2, arr3))\n",
    "horizontal=np.hstack((arr2,arr3))\n",
    "\n",
    "print(\"\\nVertical Concatination : \\n\", vertical)\n",
    "print(\"\\nHorizontal Concatination : \\n\",horizontal)"
   ]
  },
  {
   "cell_type": "markdown",
   "id": "5583d813-bffe-4a4d-9e78-697ae3016b62",
   "metadata": {},
   "source": [
    "TASK 7"
   ]
  },
  {
   "cell_type": "code",
   "execution_count": 176,
   "id": "33372490-3641-4feb-b6ea-1309aa0f8d09",
   "metadata": {},
   "outputs": [
    {
     "name": "stdout",
     "output_type": "stream",
     "text": [
      "List After Reversing :  [6, 5, 4, 3, 2, 1]\n"
     ]
    }
   ],
   "source": [
    "arr = [1, 2, 3, 4, 5, 6]\n",
    "\n",
    "arr1 = arr[::-1]\n",
    "\n",
    "print(\"List After Reversing : \", arr1)\n"
   ]
  },
  {
   "cell_type": "code",
   "execution_count": null,
   "id": "152b5732-3ddc-498d-9934-229ee8725f1f",
   "metadata": {},
   "outputs": [],
   "source": []
  }
 ],
 "metadata": {
  "kernelspec": {
   "display_name": "Python [conda env:base] *",
   "language": "python",
   "name": "conda-base-py"
  },
  "language_info": {
   "codemirror_mode": {
    "name": "ipython",
    "version": 3
   },
   "file_extension": ".py",
   "mimetype": "text/x-python",
   "name": "python",
   "nbconvert_exporter": "python",
   "pygments_lexer": "ipython3",
   "version": "3.12.7"
  }
 },
 "nbformat": 4,
 "nbformat_minor": 5
}
